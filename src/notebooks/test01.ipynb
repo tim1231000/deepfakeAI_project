{
 "cells": [
  {
   "cell_type": "code",
   "execution_count": 3,
   "id": "4f19bc48-dd54-44c0-8a92-f7d1481b0445",
   "metadata": {},
   "outputs": [
    {
     "name": "stdout",
     "output_type": "stream",
     "text": [
      "C:\\Users\\tim12\\miniconda3\\envs\\deepfakeAI\\python.exe\n"
     ]
    }
   ],
   "source": [
    "import sys\n",
    "print(sys.executable)"
   ]
  },
  {
   "cell_type": "code",
   "execution_count": 4,
   "id": "e287f109-ffbe-435b-b8c2-7c9aeaf09d1d",
   "metadata": {},
   "outputs": [
    {
     "name": "stdout",
     "output_type": "stream",
     "text": [
      "PyTorch: 2.8.0+cpu\n",
      "CUDA available: False\n",
      "환경 OK ✅\n"
     ]
    }
   ],
   "source": [
    "import torch, pandas, matplotlib, sklearn, cv2, tqdm, jupyter\n",
    "\n",
    "print(\"PyTorch:\", torch.__version__)\n",
    "print(\"CUDA available:\", torch.cuda.is_available())\n",
    "print(\"환경 OK ✅\")"
   ]
  },
  {
   "cell_type": "code",
   "execution_count": null,
   "id": "da9114c2-a480-4da0-b3dc-b835ce805b0b",
   "metadata": {},
   "outputs": [],
   "source": []
  }
 ],
 "metadata": {
  "kernelspec": {
   "display_name": "Python 3 (ipykernel)",
   "language": "python",
   "name": "python3"
  },
  "language_info": {
   "codemirror_mode": {
    "name": "ipython",
    "version": 3
   },
   "file_extension": ".py",
   "mimetype": "text/x-python",
   "name": "python",
   "nbconvert_exporter": "python",
   "pygments_lexer": "ipython3",
   "version": "3.10.18"
  }
 },
 "nbformat": 4,
 "nbformat_minor": 5
}
