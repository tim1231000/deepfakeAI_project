{
 "cells": [
  {
   "cell_type": "code",
   "execution_count": 2,
   "id": "86992b9d-5431-4d17-b733-880c5e5e06b5",
   "metadata": {},
   "outputs": [
    {
     "name": "stdout",
     "output_type": "stream",
     "text": [
      "real: 13340 장\n",
      "fake: 95113 장\n",
      "\n",
      "비율 (fake : real) = 7.13 : 1\n"
     ]
    }
   ],
   "source": [
    "import os\n",
    "from pathlib import Path\n",
    "\n",
    "base = Path(r\"C:\\Users\\tim12\\Desktop\\deepfakeAI_project\\data\\processed\\frames\")\n",
    "\n",
    "counts = {}\n",
    "for cls in [\"real\", \"fake\"]:\n",
    "    count = sum(1 for _ in base.joinpath(cls).rglob(\"*.jpg\"))\n",
    "    counts[cls] = count\n",
    "    print(f\"{cls}: {count} 장\")\n",
    "\n",
    "print(\"\\n비율 (fake : real) =\", round(counts[\"fake\"] / counts[\"real\"], 2), \": 1\")"
   ]
  },
  {
   "cell_type": "code",
   "execution_count": null,
   "id": "7a001b00-5660-4b97-89c7-63f776b2d466",
   "metadata": {},
   "outputs": [],
   "source": []
  }
 ],
 "metadata": {
  "kernelspec": {
   "display_name": "Python 3 (ipykernel)",
   "language": "python",
   "name": "python3"
  },
  "language_info": {
   "codemirror_mode": {
    "name": "ipython",
    "version": 3
   },
   "file_extension": ".py",
   "mimetype": "text/x-python",
   "name": "python",
   "nbconvert_exporter": "python",
   "pygments_lexer": "ipython3",
   "version": "3.10.18"
  }
 },
 "nbformat": 4,
 "nbformat_minor": 5
}
